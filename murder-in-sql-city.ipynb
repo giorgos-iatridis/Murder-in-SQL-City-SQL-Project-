{
 "cells": [
  {
   "cell_type": "code",
   "execution_count": 1,
   "id": "2c1b248b",
   "metadata": {
    "_cell_guid": "b1076dfc-b9ad-4769-8c92-a6c4dae69d19",
    "_uuid": "8f2839f25d086af736a60e9eeb907d3b93b6e0e5",
    "execution": {
     "iopub.execute_input": "2025-09-07T15:01:49.386440Z",
     "iopub.status.busy": "2025-09-07T15:01:49.386055Z",
     "iopub.status.idle": "2025-09-07T15:01:49.907754Z",
     "shell.execute_reply": "2025-09-07T15:01:49.906634Z"
    },
    "papermill": {
     "duration": 0.531164,
     "end_time": "2025-09-07T15:01:49.909350",
     "exception": false,
     "start_time": "2025-09-07T15:01:49.378186",
     "status": "completed"
    },
    "tags": []
   },
   "outputs": [
    {
     "name": "stdout",
     "output_type": "stream",
     "text": [
      "Path to dataset files: /kaggle/input/sql-murder-mystery-database\n"
     ]
    }
   ],
   "source": [
    "import kagglehub\n",
    "\n",
    "# Download latest version\n",
    "path = kagglehub.dataset_download(\"johnp47/sql-murder-mystery-database\")\n",
    "\n",
    "print(\"Path to dataset files:\", path)"
   ]
  },
  {
   "cell_type": "code",
   "execution_count": 2,
   "id": "1eea1856",
   "metadata": {
    "execution": {
     "iopub.execute_input": "2025-09-07T15:01:49.920627Z",
     "iopub.status.busy": "2025-09-07T15:01:49.920337Z",
     "iopub.status.idle": "2025-09-07T15:01:51.851424Z",
     "shell.execute_reply": "2025-09-07T15:01:51.850406Z"
    },
    "papermill": {
     "duration": 1.938658,
     "end_time": "2025-09-07T15:01:51.853086",
     "exception": false,
     "start_time": "2025-09-07T15:01:49.914428",
     "status": "completed"
    },
    "tags": []
   },
   "outputs": [],
   "source": [
    "import sqlite3\n",
    "import pandas as pd"
   ]
  },
  {
   "cell_type": "code",
   "execution_count": 3,
   "id": "78c9359d",
   "metadata": {
    "execution": {
     "iopub.execute_input": "2025-09-07T15:01:51.864447Z",
     "iopub.status.busy": "2025-09-07T15:01:51.863600Z",
     "iopub.status.idle": "2025-09-07T15:01:51.890661Z",
     "shell.execute_reply": "2025-09-07T15:01:51.889572Z"
    },
    "papermill": {
     "duration": 0.03412,
     "end_time": "2025-09-07T15:01:51.892197",
     "exception": false,
     "start_time": "2025-09-07T15:01:51.858077",
     "status": "completed"
    },
    "tags": []
   },
   "outputs": [
    {
     "name": "stdout",
     "output_type": "stream",
     "text": [
      "('crime_scene_report',)\n",
      "('drivers_license',)\n",
      "('person',)\n",
      "('facebook_event_checkin',)\n",
      "('interview',)\n",
      "('get_fit_now_member',)\n",
      "('get_fit_now_check_in',)\n",
      "('income',)\n",
      "('solution',)\n"
     ]
    }
   ],
   "source": [
    "# Connect to the database\n",
    "database = \"/kaggle/input/sql-murder-mystery-database/sql-murder-mystery.db\"\n",
    "conn = sqlite3.connect(database)\n",
    "cursor = conn.cursor()\n",
    "\n",
    "cursor.execute(\"SELECT name FROM sqlite_master WHERE type='table';\")\n",
    "tables = cursor.fetchall()\n",
    "\n",
    "# Tables's Names\n",
    "for t in tables:\n",
    "    print(t)"
   ]
  },
  {
   "cell_type": "code",
   "execution_count": 4,
   "id": "a8f6d063",
   "metadata": {
    "execution": {
     "iopub.execute_input": "2025-09-07T15:01:51.903117Z",
     "iopub.status.busy": "2025-09-07T15:01:51.902821Z",
     "iopub.status.idle": "2025-09-07T15:01:51.939463Z",
     "shell.execute_reply": "2025-09-07T15:01:51.938518Z"
    },
    "papermill": {
     "duration": 0.044105,
     "end_time": "2025-09-07T15:01:51.941249",
     "exception": false,
     "start_time": "2025-09-07T15:01:51.897144",
     "status": "completed"
    },
    "tags": []
   },
   "outputs": [
    {
     "data": {
      "text/html": [
       "<div>\n",
       "<style scoped>\n",
       "    .dataframe tbody tr th:only-of-type {\n",
       "        vertical-align: middle;\n",
       "    }\n",
       "\n",
       "    .dataframe tbody tr th {\n",
       "        vertical-align: top;\n",
       "    }\n",
       "\n",
       "    .dataframe thead th {\n",
       "        text-align: right;\n",
       "    }\n",
       "</style>\n",
       "<table border=\"1\" class=\"dataframe\">\n",
       "  <thead>\n",
       "    <tr style=\"text-align: right;\">\n",
       "      <th></th>\n",
       "      <th>date</th>\n",
       "      <th>type</th>\n",
       "      <th>description</th>\n",
       "      <th>city</th>\n",
       "    </tr>\n",
       "  </thead>\n",
       "  <tbody>\n",
       "    <tr>\n",
       "      <th>0</th>\n",
       "      <td>20180115</td>\n",
       "      <td>robbery</td>\n",
       "      <td>A Man Dressed as Spider-Man Is on a Robbery Spree</td>\n",
       "      <td>NYC</td>\n",
       "    </tr>\n",
       "    <tr>\n",
       "      <th>1</th>\n",
       "      <td>20180115</td>\n",
       "      <td>murder</td>\n",
       "      <td>Life? Dont talk to me about life.</td>\n",
       "      <td>Albany</td>\n",
       "    </tr>\n",
       "    <tr>\n",
       "      <th>2</th>\n",
       "      <td>20180115</td>\n",
       "      <td>murder</td>\n",
       "      <td>Mama, I killed a man, put a gun against his he...</td>\n",
       "      <td>Reno</td>\n",
       "    </tr>\n",
       "    <tr>\n",
       "      <th>3</th>\n",
       "      <td>20180215</td>\n",
       "      <td>murder</td>\n",
       "      <td>REDACTED REDACTED REDACTED</td>\n",
       "      <td>SQL City</td>\n",
       "    </tr>\n",
       "    <tr>\n",
       "      <th>4</th>\n",
       "      <td>20180215</td>\n",
       "      <td>murder</td>\n",
       "      <td>Someone killed the guard! He took an arrow to ...</td>\n",
       "      <td>SQL City</td>\n",
       "    </tr>\n",
       "  </tbody>\n",
       "</table>\n",
       "</div>"
      ],
      "text/plain": [
       "       date     type                                        description  \\\n",
       "0  20180115  robbery  A Man Dressed as Spider-Man Is on a Robbery Spree   \n",
       "1  20180115   murder                  Life? Dont talk to me about life.   \n",
       "2  20180115   murder  Mama, I killed a man, put a gun against his he...   \n",
       "3  20180215   murder                         REDACTED REDACTED REDACTED   \n",
       "4  20180215   murder  Someone killed the guard! He took an arrow to ...   \n",
       "\n",
       "       city  \n",
       "0       NYC  \n",
       "1    Albany  \n",
       "2      Reno  \n",
       "3  SQL City  \n",
       "4  SQL City  "
      ]
     },
     "execution_count": 4,
     "metadata": {},
     "output_type": "execute_result"
    }
   ],
   "source": [
    "# First 5 rows of the table 'crime_scene_report'\n",
    "\n",
    "query = \"SELECT * FROM crime_scene_report LIMIT 5;\"\n",
    "df = pd.read_sql(query, conn)\n",
    "df"
   ]
  },
  {
   "cell_type": "markdown",
   "id": "b002f89f",
   "metadata": {
    "papermill": {
     "duration": 0.004652,
     "end_time": "2025-09-07T15:01:51.951110",
     "exception": false,
     "start_time": "2025-09-07T15:01:51.946458",
     "status": "completed"
    },
    "tags": []
   },
   "source": [
    "####   This is the pythonic way to write SQL queries in Python.\n",
    "There's another way, more clear and faster to make SQL queries and that is **\"Magic Commands\"** or just **\"Magics\"**.\n",
    "To do it, we need the following:"
   ]
  },
  {
   "cell_type": "code",
   "execution_count": 5,
   "id": "fa1429ff",
   "metadata": {
    "execution": {
     "iopub.execute_input": "2025-09-07T15:01:51.961997Z",
     "iopub.status.busy": "2025-09-07T15:01:51.961643Z",
     "iopub.status.idle": "2025-09-07T15:01:52.800179Z",
     "shell.execute_reply": "2025-09-07T15:01:52.799285Z"
    },
    "papermill": {
     "duration": 0.846031,
     "end_time": "2025-09-07T15:01:52.801972",
     "exception": false,
     "start_time": "2025-09-07T15:01:51.955941",
     "status": "completed"
    },
    "tags": []
   },
   "outputs": [],
   "source": [
    "%load_ext sql  \n",
    "\n",
    "%sql sqlite:////kaggle/input/sql-murder-mystery-database/sql-murder-mystery.db\n",
    "\n",
    "from prettytable import TableStyle\n",
    "from sql import run\n",
    "\n",
    "run.prettytable.DEFAULT = TableStyle.MSWORD_FRIENDLY"
   ]
  },
  {
   "cell_type": "markdown",
   "id": "a85ea140",
   "metadata": {
    "papermill": {
     "duration": 0.00458,
     "end_time": "2025-09-07T15:01:52.811660",
     "exception": false,
     "start_time": "2025-09-07T15:01:52.807080",
     "status": "completed"
    },
    "tags": []
   },
   "source": [
    "#### It's very important to have a preview from every table in the database\n",
    "\n",
    "So, let's see the first five rows from each one"
   ]
  },
  {
   "cell_type": "code",
   "execution_count": 6,
   "id": "ddb897f8",
   "metadata": {
    "execution": {
     "iopub.execute_input": "2025-09-07T15:01:52.823869Z",
     "iopub.status.busy": "2025-09-07T15:01:52.822891Z",
     "iopub.status.idle": "2025-09-07T15:01:52.842575Z",
     "shell.execute_reply": "2025-09-07T15:01:52.841568Z"
    },
    "papermill": {
     "duration": 0.026815,
     "end_time": "2025-09-07T15:01:52.843989",
     "exception": false,
     "start_time": "2025-09-07T15:01:52.817174",
     "status": "completed"
    },
    "tags": []
   },
   "outputs": [
    {
     "name": "stdout",
     "output_type": "stream",
     "text": [
      " * sqlite:////kaggle/input/sql-murder-mystery-database/sql-murder-mystery.db\n",
      "Done.\n"
     ]
    },
    {
     "data": {
      "text/html": [
       "<table>\n",
       "    <thead>\n",
       "        <tr>\n",
       "            <th>id</th>\n",
       "            <th>age</th>\n",
       "            <th>height</th>\n",
       "            <th>eye_color</th>\n",
       "            <th>hair_color</th>\n",
       "            <th>gender</th>\n",
       "            <th>plate_number</th>\n",
       "            <th>car_make</th>\n",
       "            <th>car_model</th>\n",
       "        </tr>\n",
       "    </thead>\n",
       "    <tbody>\n",
       "        <tr>\n",
       "            <td>100280</td>\n",
       "            <td>72</td>\n",
       "            <td>57</td>\n",
       "            <td>brown</td>\n",
       "            <td>red</td>\n",
       "            <td>male</td>\n",
       "            <td>P24L4U</td>\n",
       "            <td>Acura</td>\n",
       "            <td>MDX</td>\n",
       "        </tr>\n",
       "        <tr>\n",
       "            <td>100460</td>\n",
       "            <td>63</td>\n",
       "            <td>72</td>\n",
       "            <td>brown</td>\n",
       "            <td>brown</td>\n",
       "            <td>female</td>\n",
       "            <td>XF02T6</td>\n",
       "            <td>Cadillac</td>\n",
       "            <td>SRX</td>\n",
       "        </tr>\n",
       "        <tr>\n",
       "            <td>101029</td>\n",
       "            <td>62</td>\n",
       "            <td>74</td>\n",
       "            <td>green</td>\n",
       "            <td>green</td>\n",
       "            <td>female</td>\n",
       "            <td>VKY5KR</td>\n",
       "            <td>Scion</td>\n",
       "            <td>xB</td>\n",
       "        </tr>\n",
       "        <tr>\n",
       "            <td>101198</td>\n",
       "            <td>43</td>\n",
       "            <td>54</td>\n",
       "            <td>amber</td>\n",
       "            <td>brown</td>\n",
       "            <td>female</td>\n",
       "            <td>Y5NZ08</td>\n",
       "            <td>Nissan</td>\n",
       "            <td>Rogue</td>\n",
       "        </tr>\n",
       "        <tr>\n",
       "            <td>101255</td>\n",
       "            <td>18</td>\n",
       "            <td>79</td>\n",
       "            <td>blue</td>\n",
       "            <td>grey</td>\n",
       "            <td>female</td>\n",
       "            <td>5162Z1</td>\n",
       "            <td>Lexus</td>\n",
       "            <td>GS</td>\n",
       "        </tr>\n",
       "    </tbody>\n",
       "</table>"
      ],
      "text/plain": [
       "[(100280, 72, 57, 'brown', 'red', 'male', 'P24L4U', 'Acura', 'MDX'),\n",
       " (100460, 63, 72, 'brown', 'brown', 'female', 'XF02T6', 'Cadillac', 'SRX'),\n",
       " (101029, 62, 74, 'green', 'green', 'female', 'VKY5KR', 'Scion', 'xB'),\n",
       " (101198, 43, 54, 'amber', 'brown', 'female', 'Y5NZ08', 'Nissan', 'Rogue'),\n",
       " (101255, 18, 79, 'blue', 'grey', 'female', '5162Z1', 'Lexus', 'GS')]"
      ]
     },
     "execution_count": 6,
     "metadata": {},
     "output_type": "execute_result"
    }
   ],
   "source": [
    "%sql SELECT * FROM drivers_license LIMIT 5;"
   ]
  },
  {
   "cell_type": "code",
   "execution_count": 7,
   "id": "6d2c5ad6",
   "metadata": {
    "execution": {
     "iopub.execute_input": "2025-09-07T15:01:52.855756Z",
     "iopub.status.busy": "2025-09-07T15:01:52.855429Z",
     "iopub.status.idle": "2025-09-07T15:01:52.866395Z",
     "shell.execute_reply": "2025-09-07T15:01:52.865625Z"
    },
    "papermill": {
     "duration": 0.018726,
     "end_time": "2025-09-07T15:01:52.868041",
     "exception": false,
     "start_time": "2025-09-07T15:01:52.849315",
     "status": "completed"
    },
    "tags": []
   },
   "outputs": [
    {
     "name": "stdout",
     "output_type": "stream",
     "text": [
      " * sqlite:////kaggle/input/sql-murder-mystery-database/sql-murder-mystery.db\n",
      "Done.\n"
     ]
    },
    {
     "data": {
      "text/html": [
       "<table>\n",
       "    <thead>\n",
       "        <tr>\n",
       "            <th>id</th>\n",
       "            <th>name</th>\n",
       "            <th>license_id</th>\n",
       "            <th>address_number</th>\n",
       "            <th>address_street_name</th>\n",
       "            <th>ssn</th>\n",
       "        </tr>\n",
       "    </thead>\n",
       "    <tbody>\n",
       "        <tr>\n",
       "            <td>10000</td>\n",
       "            <td>Christoper Peteuil</td>\n",
       "            <td>993845</td>\n",
       "            <td>624</td>\n",
       "            <td>Bankhall Ave</td>\n",
       "            <td>747714076</td>\n",
       "        </tr>\n",
       "        <tr>\n",
       "            <td>10007</td>\n",
       "            <td>Kourtney Calderwood</td>\n",
       "            <td>861794</td>\n",
       "            <td>2791</td>\n",
       "            <td>Gustavus Blvd</td>\n",
       "            <td>477972044</td>\n",
       "        </tr>\n",
       "        <tr>\n",
       "            <td>10010</td>\n",
       "            <td>Muoi Cary</td>\n",
       "            <td>385336</td>\n",
       "            <td>741</td>\n",
       "            <td>Northwestern Dr</td>\n",
       "            <td>828638512</td>\n",
       "        </tr>\n",
       "        <tr>\n",
       "            <td>10016</td>\n",
       "            <td>Era Moselle</td>\n",
       "            <td>431897</td>\n",
       "            <td>1987</td>\n",
       "            <td>Wood Glade St</td>\n",
       "            <td>614621061</td>\n",
       "        </tr>\n",
       "        <tr>\n",
       "            <td>10025</td>\n",
       "            <td>Trena Hornby</td>\n",
       "            <td>550890</td>\n",
       "            <td>276</td>\n",
       "            <td>Daws Hill Way</td>\n",
       "            <td>223877684</td>\n",
       "        </tr>\n",
       "    </tbody>\n",
       "</table>"
      ],
      "text/plain": [
       "[(10000, 'Christoper Peteuil', 993845, 624, 'Bankhall Ave', 747714076),\n",
       " (10007, 'Kourtney Calderwood', 861794, 2791, 'Gustavus Blvd', 477972044),\n",
       " (10010, 'Muoi Cary', 385336, 741, 'Northwestern Dr', 828638512),\n",
       " (10016, 'Era Moselle', 431897, 1987, 'Wood Glade St', 614621061),\n",
       " (10025, 'Trena Hornby', 550890, 276, 'Daws Hill Way', 223877684)]"
      ]
     },
     "execution_count": 7,
     "metadata": {},
     "output_type": "execute_result"
    }
   ],
   "source": [
    "%sql SELECT * FROM person LIMIT 5;"
   ]
  },
  {
   "cell_type": "code",
   "execution_count": 8,
   "id": "3689cfaf",
   "metadata": {
    "execution": {
     "iopub.execute_input": "2025-09-07T15:01:52.879886Z",
     "iopub.status.busy": "2025-09-07T15:01:52.879555Z",
     "iopub.status.idle": "2025-09-07T15:01:52.893842Z",
     "shell.execute_reply": "2025-09-07T15:01:52.892709Z"
    },
    "papermill": {
     "duration": 0.021722,
     "end_time": "2025-09-07T15:01:52.895143",
     "exception": false,
     "start_time": "2025-09-07T15:01:52.873421",
     "status": "completed"
    },
    "tags": []
   },
   "outputs": [
    {
     "name": "stdout",
     "output_type": "stream",
     "text": [
      " * sqlite:////kaggle/input/sql-murder-mystery-database/sql-murder-mystery.db\n",
      "Done.\n"
     ]
    },
    {
     "data": {
      "text/html": [
       "<table>\n",
       "    <thead>\n",
       "        <tr>\n",
       "            <th>person_id</th>\n",
       "            <th>event_id</th>\n",
       "            <th>event_name</th>\n",
       "            <th>date</th>\n",
       "        </tr>\n",
       "    </thead>\n",
       "    <tbody>\n",
       "        <tr>\n",
       "            <td>28508</td>\n",
       "            <td>5880</td>\n",
       "            <td>Nudists are people who wear one-button suits.<br></td>\n",
       "            <td>20170913</td>\n",
       "        </tr>\n",
       "        <tr>\n",
       "            <td>63713</td>\n",
       "            <td>3865</td>\n",
       "            <td>but that&#x27;s because it&#x27;s the best book on anything for the layman.<br></td>\n",
       "            <td>20171009</td>\n",
       "        </tr>\n",
       "        <tr>\n",
       "            <td>63713</td>\n",
       "            <td>3999</td>\n",
       "            <td>&nbsp;&nbsp;&nbsp;&nbsp;&nbsp;&nbsp;&nbsp;&nbsp;If Murphy&#x27;s Law can go wrong, it will.<br></td>\n",
       "            <td>20170502</td>\n",
       "        </tr>\n",
       "        <tr>\n",
       "            <td>63713</td>\n",
       "            <td>6436</td>\n",
       "            <td>Old programmers never die.  They just branch to a new address.<br></td>\n",
       "            <td>20170926</td>\n",
       "        </tr>\n",
       "        <tr>\n",
       "            <td>82998</td>\n",
       "            <td>4470</td>\n",
       "            <td>Help a swallow land at Capistrano.<br></td>\n",
       "            <td>20171022</td>\n",
       "        </tr>\n",
       "    </tbody>\n",
       "</table>"
      ],
      "text/plain": [
       "[(28508, 5880, 'Nudists are people who wear one-button suits.\\n', 20170913),\n",
       " (63713, 3865, \"but that's because it's the best book on anything for the layman.\\n\", 20171009),\n",
       " (63713, 3999, \"        If Murphy's Law can go wrong, it will.\\n\", 20170502),\n",
       " (63713, 6436, 'Old programmers never die.  They just branch to a new address.\\n', 20170926),\n",
       " (82998, 4470, 'Help a swallow land at Capistrano.\\n', 20171022)]"
      ]
     },
     "execution_count": 8,
     "metadata": {},
     "output_type": "execute_result"
    }
   ],
   "source": [
    "%sql SELECT * FROM facebook_event_checkin LIMIT 5;"
   ]
  },
  {
   "cell_type": "code",
   "execution_count": 9,
   "id": "6c18ee53",
   "metadata": {
    "execution": {
     "iopub.execute_input": "2025-09-07T15:01:52.907562Z",
     "iopub.status.busy": "2025-09-07T15:01:52.907254Z",
     "iopub.status.idle": "2025-09-07T15:01:52.920060Z",
     "shell.execute_reply": "2025-09-07T15:01:52.919170Z"
    },
    "papermill": {
     "duration": 0.020517,
     "end_time": "2025-09-07T15:01:52.921378",
     "exception": false,
     "start_time": "2025-09-07T15:01:52.900861",
     "status": "completed"
    },
    "tags": []
   },
   "outputs": [
    {
     "name": "stdout",
     "output_type": "stream",
     "text": [
      " * sqlite:////kaggle/input/sql-murder-mystery-database/sql-murder-mystery.db\n",
      "Done.\n"
     ]
    },
    {
     "data": {
      "text/html": [
       "<table>\n",
       "    <thead>\n",
       "        <tr>\n",
       "            <th>person_id</th>\n",
       "            <th>transcript</th>\n",
       "        </tr>\n",
       "    </thead>\n",
       "    <tbody>\n",
       "        <tr>\n",
       "            <td>28508</td>\n",
       "            <td>‘I deny it!’ said the March Hare.<br></td>\n",
       "        </tr>\n",
       "        <tr>\n",
       "            <td>63713</td>\n",
       "            <td><br></td>\n",
       "        </tr>\n",
       "        <tr>\n",
       "            <td>86208</td>\n",
       "            <td>way, and the whole party swam to the shore.<br></td>\n",
       "        </tr>\n",
       "        <tr>\n",
       "            <td>35267</td>\n",
       "            <td>lessons in here? Why, there’s hardly room for YOU, and no room at all<br></td>\n",
       "        </tr>\n",
       "        <tr>\n",
       "            <td>33856</td>\n",
       "            <td><br></td>\n",
       "        </tr>\n",
       "    </tbody>\n",
       "</table>"
      ],
      "text/plain": [
       "[(28508, '‘I deny it!’ said the March Hare.\\n'),\n",
       " (63713, '\\n'),\n",
       " (86208, 'way, and the whole party swam to the shore.\\n'),\n",
       " (35267, 'lessons in here? Why, there’s hardly room for YOU, and no room at all\\n'),\n",
       " (33856, '\\n')]"
      ]
     },
     "execution_count": 9,
     "metadata": {},
     "output_type": "execute_result"
    }
   ],
   "source": [
    "%sql SELECT * FROM interview LIMIT 5;"
   ]
  },
  {
   "cell_type": "code",
   "execution_count": 10,
   "id": "e4977d04",
   "metadata": {
    "execution": {
     "iopub.execute_input": "2025-09-07T15:01:52.933861Z",
     "iopub.status.busy": "2025-09-07T15:01:52.933550Z",
     "iopub.status.idle": "2025-09-07T15:01:52.947535Z",
     "shell.execute_reply": "2025-09-07T15:01:52.946783Z"
    },
    "papermill": {
     "duration": 0.021616,
     "end_time": "2025-09-07T15:01:52.948766",
     "exception": false,
     "start_time": "2025-09-07T15:01:52.927150",
     "status": "completed"
    },
    "tags": []
   },
   "outputs": [
    {
     "name": "stdout",
     "output_type": "stream",
     "text": [
      " * sqlite:////kaggle/input/sql-murder-mystery-database/sql-murder-mystery.db\n",
      "Done.\n"
     ]
    },
    {
     "data": {
      "text/html": [
       "<table>\n",
       "    <thead>\n",
       "        <tr>\n",
       "            <th>id</th>\n",
       "            <th>person_id</th>\n",
       "            <th>name</th>\n",
       "            <th>membership_start_date</th>\n",
       "            <th>membership_status</th>\n",
       "        </tr>\n",
       "    </thead>\n",
       "    <tbody>\n",
       "        <tr>\n",
       "            <td>NL318</td>\n",
       "            <td>65076</td>\n",
       "            <td>Everette Koepke</td>\n",
       "            <td>20170926</td>\n",
       "            <td>gold</td>\n",
       "        </tr>\n",
       "        <tr>\n",
       "            <td>AOE21</td>\n",
       "            <td>39426</td>\n",
       "            <td>Noe Locascio</td>\n",
       "            <td>20171005</td>\n",
       "            <td>regular</td>\n",
       "        </tr>\n",
       "        <tr>\n",
       "            <td>2PN28</td>\n",
       "            <td>63823</td>\n",
       "            <td>Jeromy Heitschmidt</td>\n",
       "            <td>20180215</td>\n",
       "            <td>silver</td>\n",
       "        </tr>\n",
       "        <tr>\n",
       "            <td>0YJ24</td>\n",
       "            <td>80651</td>\n",
       "            <td>Waneta Wellard</td>\n",
       "            <td>20171206</td>\n",
       "            <td>gold</td>\n",
       "        </tr>\n",
       "        <tr>\n",
       "            <td>3A08L</td>\n",
       "            <td>32858</td>\n",
       "            <td>Mei Bianchin</td>\n",
       "            <td>20170401</td>\n",
       "            <td>silver</td>\n",
       "        </tr>\n",
       "    </tbody>\n",
       "</table>"
      ],
      "text/plain": [
       "[('NL318', 65076, 'Everette Koepke', 20170926, 'gold'),\n",
       " ('AOE21', 39426, 'Noe Locascio', 20171005, 'regular'),\n",
       " ('2PN28', 63823, 'Jeromy Heitschmidt', 20180215, 'silver'),\n",
       " ('0YJ24', 80651, 'Waneta Wellard', 20171206, 'gold'),\n",
       " ('3A08L', 32858, 'Mei Bianchin', 20170401, 'silver')]"
      ]
     },
     "execution_count": 10,
     "metadata": {},
     "output_type": "execute_result"
    }
   ],
   "source": [
    "%sql SELECT * FROM get_fit_now_member LIMIT 5;"
   ]
  },
  {
   "cell_type": "code",
   "execution_count": 11,
   "id": "73d6eb80",
   "metadata": {
    "execution": {
     "iopub.execute_input": "2025-09-07T15:01:52.961522Z",
     "iopub.status.busy": "2025-09-07T15:01:52.961209Z",
     "iopub.status.idle": "2025-09-07T15:01:52.973504Z",
     "shell.execute_reply": "2025-09-07T15:01:52.972695Z"
    },
    "papermill": {
     "duration": 0.020258,
     "end_time": "2025-09-07T15:01:52.974824",
     "exception": false,
     "start_time": "2025-09-07T15:01:52.954566",
     "status": "completed"
    },
    "tags": []
   },
   "outputs": [
    {
     "name": "stdout",
     "output_type": "stream",
     "text": [
      " * sqlite:////kaggle/input/sql-murder-mystery-database/sql-murder-mystery.db\n",
      "Done.\n"
     ]
    },
    {
     "data": {
      "text/html": [
       "<table>\n",
       "    <thead>\n",
       "        <tr>\n",
       "            <th>membership_id</th>\n",
       "            <th>check_in_date</th>\n",
       "            <th>check_in_time</th>\n",
       "            <th>check_out_time</th>\n",
       "        </tr>\n",
       "    </thead>\n",
       "    <tbody>\n",
       "        <tr>\n",
       "            <td>NL318</td>\n",
       "            <td>20180212</td>\n",
       "            <td>329</td>\n",
       "            <td>365</td>\n",
       "        </tr>\n",
       "        <tr>\n",
       "            <td>NL318</td>\n",
       "            <td>20170811</td>\n",
       "            <td>469</td>\n",
       "            <td>920</td>\n",
       "        </tr>\n",
       "        <tr>\n",
       "            <td>NL318</td>\n",
       "            <td>20180429</td>\n",
       "            <td>506</td>\n",
       "            <td>554</td>\n",
       "        </tr>\n",
       "        <tr>\n",
       "            <td>NL318</td>\n",
       "            <td>20180128</td>\n",
       "            <td>124</td>\n",
       "            <td>759</td>\n",
       "        </tr>\n",
       "        <tr>\n",
       "            <td>NL318</td>\n",
       "            <td>20171027</td>\n",
       "            <td>418</td>\n",
       "            <td>1019</td>\n",
       "        </tr>\n",
       "    </tbody>\n",
       "</table>"
      ],
      "text/plain": [
       "[('NL318', 20180212, 329, 365),\n",
       " ('NL318', 20170811, 469, 920),\n",
       " ('NL318', 20180429, 506, 554),\n",
       " ('NL318', 20180128, 124, 759),\n",
       " ('NL318', 20171027, 418, 1019)]"
      ]
     },
     "execution_count": 11,
     "metadata": {},
     "output_type": "execute_result"
    }
   ],
   "source": [
    "%sql SELECT * FROM get_fit_now_check_in LIMIT 5;"
   ]
  },
  {
   "cell_type": "code",
   "execution_count": 12,
   "id": "c2147e2e",
   "metadata": {
    "execution": {
     "iopub.execute_input": "2025-09-07T15:01:52.988556Z",
     "iopub.status.busy": "2025-09-07T15:01:52.987707Z",
     "iopub.status.idle": "2025-09-07T15:01:53.006385Z",
     "shell.execute_reply": "2025-09-07T15:01:53.005411Z"
    },
    "papermill": {
     "duration": 0.026859,
     "end_time": "2025-09-07T15:01:53.007815",
     "exception": false,
     "start_time": "2025-09-07T15:01:52.980956",
     "status": "completed"
    },
    "tags": []
   },
   "outputs": [
    {
     "name": "stdout",
     "output_type": "stream",
     "text": [
      " * sqlite:////kaggle/input/sql-murder-mystery-database/sql-murder-mystery.db\n",
      "Done.\n"
     ]
    },
    {
     "data": {
      "text/html": [
       "<table>\n",
       "    <thead>\n",
       "        <tr>\n",
       "            <th>ssn</th>\n",
       "            <th>annual_income</th>\n",
       "        </tr>\n",
       "    </thead>\n",
       "    <tbody>\n",
       "        <tr>\n",
       "            <td>100009868</td>\n",
       "            <td>52200</td>\n",
       "        </tr>\n",
       "        <tr>\n",
       "            <td>100169584</td>\n",
       "            <td>64500</td>\n",
       "        </tr>\n",
       "        <tr>\n",
       "            <td>100300433</td>\n",
       "            <td>74400</td>\n",
       "        </tr>\n",
       "        <tr>\n",
       "            <td>100355733</td>\n",
       "            <td>35900</td>\n",
       "        </tr>\n",
       "        <tr>\n",
       "            <td>100366269</td>\n",
       "            <td>73000</td>\n",
       "        </tr>\n",
       "    </tbody>\n",
       "</table>"
      ],
      "text/plain": [
       "[(100009868, 52200),\n",
       " (100169584, 64500),\n",
       " (100300433, 74400),\n",
       " (100355733, 35900),\n",
       " (100366269, 73000)]"
      ]
     },
     "execution_count": 12,
     "metadata": {},
     "output_type": "execute_result"
    }
   ],
   "source": [
    "%sql SELECT * FROM income LIMIT 5;"
   ]
  },
  {
   "cell_type": "markdown",
   "id": "0827c6c1",
   "metadata": {
    "papermill": {
     "duration": 0.005883,
     "end_time": "2025-09-07T15:01:53.019939",
     "exception": false,
     "start_time": "2025-09-07T15:01:53.014056",
     "status": "completed"
    },
    "tags": []
   },
   "source": [
    "After we had a look from all the tables, let's use the given information from our case:\n",
    "\n",
    "\" There's been a **Murder** in **SQL City**! The SQL Murder Mystery is designed to be both a self-directed lesson to learn SQL concepts and commands and a fun game for experienced SQL users to solve an intriguing crime. \"\n",
    "\n",
    "\" A crime has taken place and the detective needs your help. The detective gave you the crime scene report, but you somehow lost it. You vaguely remember that the crime was a ​**murder**​ that occurred sometime on ​**Jan.15, 2018**​ and that it took place in ​**SQL City**​. Start by retrieving the corresponding crime scene report from the police department’s database. \""
   ]
  },
  {
   "cell_type": "code",
   "execution_count": 13,
   "id": "f26ae694",
   "metadata": {
    "execution": {
     "iopub.execute_input": "2025-09-07T15:01:53.033536Z",
     "iopub.status.busy": "2025-09-07T15:01:53.033238Z",
     "iopub.status.idle": "2025-09-07T15:01:53.050487Z",
     "shell.execute_reply": "2025-09-07T15:01:53.049538Z"
    },
    "papermill": {
     "duration": 0.02637,
     "end_time": "2025-09-07T15:01:53.052231",
     "exception": false,
     "start_time": "2025-09-07T15:01:53.025861",
     "status": "completed"
    },
    "tags": []
   },
   "outputs": [
    {
     "name": "stdout",
     "output_type": "stream",
     "text": [
      " * sqlite:////kaggle/input/sql-murder-mystery-database/sql-murder-mystery.db\n",
      "Done.\n"
     ]
    },
    {
     "data": {
      "text/html": [
       "<table>\n",
       "    <thead>\n",
       "        <tr>\n",
       "            <th>date</th>\n",
       "            <th>type</th>\n",
       "            <th>description</th>\n",
       "            <th>city</th>\n",
       "        </tr>\n",
       "    </thead>\n",
       "    <tbody>\n",
       "        <tr>\n",
       "            <td>20180115</td>\n",
       "            <td>murder</td>\n",
       "            <td>Security footage shows that there were 2 witnesses. The first witness lives at the last house on &quot;Northwestern Dr&quot;. The second witness, named Annabel, lives somewhere on &quot;Franklin Ave&quot;.</td>\n",
       "            <td>SQL City</td>\n",
       "        </tr>\n",
       "    </tbody>\n",
       "</table>"
      ],
      "text/plain": [
       "[(20180115, 'murder', 'Security footage shows that there were 2 witnesses. The first witness lives at the last house on \"Northwestern Dr\". The second witness, named Annabel, lives somewhere on \"Franklin Ave\".', 'SQL City')]"
      ]
     },
     "execution_count": 13,
     "metadata": {},
     "output_type": "execute_result"
    }
   ],
   "source": [
    "%%sql\n",
    "SELECT * \n",
    "FROM crime_scene_report\n",
    "WHERE \"date\" = 20180115\n",
    "AND \"type\" = 'murder'\n",
    "AND \"city\" = 'SQL City';"
   ]
  },
  {
   "cell_type": "markdown",
   "id": "7f48f211",
   "metadata": {
    "papermill": {
     "duration": 0.005902,
     "end_time": "2025-09-07T15:01:53.064593",
     "exception": false,
     "start_time": "2025-09-07T15:01:53.058691",
     "status": "completed"
    },
    "tags": []
   },
   "source": [
    "###  Next clues:\n",
    "- 2 **witnesses**\n",
    "- 1st lives at **last** house on **\"Northwestern Dr\"**\n",
    "- The 2nd is called **Annabel** and lives on **\"Franklin Ave**"
   ]
  },
  {
   "cell_type": "code",
   "execution_count": 14,
   "id": "6cad2e0d",
   "metadata": {
    "execution": {
     "iopub.execute_input": "2025-09-07T15:01:53.078183Z",
     "iopub.status.busy": "2025-09-07T15:01:53.077900Z",
     "iopub.status.idle": "2025-09-07T15:01:53.305937Z",
     "shell.execute_reply": "2025-09-07T15:01:53.305087Z"
    },
    "papermill": {
     "duration": 0.236743,
     "end_time": "2025-09-07T15:01:53.307416",
     "exception": false,
     "start_time": "2025-09-07T15:01:53.070673",
     "status": "completed"
    },
    "tags": []
   },
   "outputs": [
    {
     "name": "stdout",
     "output_type": "stream",
     "text": [
      " * sqlite:////kaggle/input/sql-murder-mystery-database/sql-murder-mystery.db\n",
      "Done.\n"
     ]
    },
    {
     "data": {
      "text/html": [
       "<table>\n",
       "    <thead>\n",
       "        <tr>\n",
       "            <th>id</th>\n",
       "            <th>name</th>\n",
       "            <th>license_id</th>\n",
       "            <th>address_number</th>\n",
       "            <th>address_street_name</th>\n",
       "            <th>ssn</th>\n",
       "        </tr>\n",
       "    </thead>\n",
       "    <tbody>\n",
       "        <tr>\n",
       "            <td>14887</td>\n",
       "            <td>Morty Schapiro</td>\n",
       "            <td>118009</td>\n",
       "            <td>4919</td>\n",
       "            <td>Northwestern Dr</td>\n",
       "            <td>111564949</td>\n",
       "        </tr>\n",
       "        <tr>\n",
       "            <td>16371</td>\n",
       "            <td>Annabel Miller</td>\n",
       "            <td>490173</td>\n",
       "            <td>103</td>\n",
       "            <td>Franklin Ave</td>\n",
       "            <td>318771143</td>\n",
       "        </tr>\n",
       "    </tbody>\n",
       "</table>"
      ],
      "text/plain": [
       "[(14887, 'Morty Schapiro', 118009, 4919, 'Northwestern Dr', 111564949),\n",
       " (16371, 'Annabel Miller', 490173, 103, 'Franklin Ave', 318771143)]"
      ]
     },
     "execution_count": 14,
     "metadata": {},
     "output_type": "execute_result"
    }
   ],
   "source": [
    "%%sql\n",
    "SELECT * \n",
    "FROM person\n",
    "WHERE (\"address_street_name\" = 'Northwestern Dr') \n",
    "    AND (address_number = (SELECT MAX(address_number) \n",
    "                          FROM person WHERE address_street_name = 'Northwestern Dr'))\n",
    "OR (address_street_name = 'Franklin Ave' AND (\"name\" LIKE '%Annabel%'));"
   ]
  },
  {
   "cell_type": "markdown",
   "id": "ff5e2da8",
   "metadata": {
    "papermill": {
     "duration": 0.006106,
     "end_time": "2025-09-07T15:01:53.320244",
     "exception": false,
     "start_time": "2025-09-07T15:01:53.314138",
     "status": "completed"
    },
    "tags": []
   },
   "source": [
    "We will examine what **Morty Schapiro** and **Annabel Miller** state:"
   ]
  },
  {
   "cell_type": "code",
   "execution_count": 15,
   "id": "c1a7e838",
   "metadata": {
    "execution": {
     "iopub.execute_input": "2025-09-07T15:01:53.334276Z",
     "iopub.status.busy": "2025-09-07T15:01:53.333969Z",
     "iopub.status.idle": "2025-09-07T15:01:53.343329Z",
     "shell.execute_reply": "2025-09-07T15:01:53.342158Z"
    },
    "papermill": {
     "duration": 0.018244,
     "end_time": "2025-09-07T15:01:53.344946",
     "exception": false,
     "start_time": "2025-09-07T15:01:53.326702",
     "status": "completed"
    },
    "tags": []
   },
   "outputs": [
    {
     "name": "stdout",
     "output_type": "stream",
     "text": [
      " * sqlite:////kaggle/input/sql-murder-mystery-database/sql-murder-mystery.db\n",
      "(sqlite3.OperationalError) unrecognized token: \"#\"\n",
      "[SQL: SELECT i.person_id, p.name, i.transcript\n",
      "FROM interview i\n",
      "JOIN person p\n",
      "ON i.person_id = p.id\n",
      "WHERE i.person_id IN # I did this just to add the knowledge of a subquery.\n",
      "                     # Of course the simplest way is WHERE p.name IN (\"Morty Schapiro\", \"Annabel Miller\")\n",
      "(\n",
      "    SELECT id FROM person \n",
      "    WHERE \n",
      "        (address_street_name = 'Northwestern Dr' \n",
      "          AND (address_number = (SELECT MAX(address_number) \n",
      "                                 FROM person \n",
      "                                 WHERE address_street_name = 'Northwestern Dr'\n",
      "                                 )\n",
      "               )\n",
      "        )\n",
      "    OR (address_street_name = 'Franklin Ave' \n",
      "        AND (name LIKE '%Annabel%')\n",
      "       )\n",
      ");]\n",
      "(Background on this error at: https://sqlalche.me/e/20/e3q8)\n"
     ]
    }
   ],
   "source": [
    "%%sql\n",
    "SELECT i.person_id, p.name, i.transcript\n",
    "FROM interview i\n",
    "JOIN person p\n",
    "ON i.person_id = p.id\n",
    "WHERE i.person_id IN # I did this just to add the knowledge of a subquery.\n",
    "                     # Of course the simplest way is WHERE p.name IN (\"Morty Schapiro\", \"Annabel Miller\")\n",
    "(\n",
    "    SELECT id FROM person \n",
    "    WHERE \n",
    "        (address_street_name = 'Northwestern Dr' \n",
    "          AND (address_number = (SELECT MAX(address_number) \n",
    "                                 FROM person \n",
    "                                 WHERE address_street_name = 'Northwestern Dr'\n",
    "                                 )\n",
    "               )\n",
    "        )\n",
    "    OR (address_street_name = 'Franklin Ave' \n",
    "        AND (name LIKE '%Annabel%')\n",
    "       )\n",
    ");"
   ]
  },
  {
   "cell_type": "markdown",
   "id": "468eb6d2",
   "metadata": {
    "execution": {
     "iopub.execute_input": "2025-09-07T14:17:44.026301Z",
     "iopub.status.busy": "2025-09-07T14:17:44.026012Z",
     "iopub.status.idle": "2025-09-07T14:17:44.034122Z",
     "shell.execute_reply": "2025-09-07T14:17:44.032922Z",
     "shell.execute_reply.started": "2025-09-07T14:17:44.026281Z"
    },
    "papermill": {
     "duration": 0.007545,
     "end_time": "2025-09-07T15:01:53.359248",
     "exception": false,
     "start_time": "2025-09-07T15:01:53.351703",
     "status": "completed"
    },
    "tags": []
   },
   "source": [
    "### Clues\n",
    "\n",
    "- **Witness 1 (Morty Schapiro)**  \n",
    "  - _Gunshot_ and saw a _man_ run out.  \n",
    "  - The man was carrying a **\"Get Fit Now Gym\" bag**.  \n",
    "  - The **membership number** on the bag started with **\"48Z\"**.  \n",
    "  - Only **gold members** have those bags.  \n",
    "  - The man got into a car with a license plate containing **\"H42W\"**.  \n",
    "\n",
    "- **Witness 2 (Annabel Miller)**  \n",
    "  - Murder happen.  \n",
    "  - Recognized the killer from the **gym**.  \n",
    "  - She had seen him working out last week on **January 9th**.  \n"
   ]
  },
  {
   "cell_type": "code",
   "execution_count": 16,
   "id": "d673dca2",
   "metadata": {
    "execution": {
     "iopub.execute_input": "2025-09-07T15:01:53.374913Z",
     "iopub.status.busy": "2025-09-07T15:01:53.374105Z",
     "iopub.status.idle": "2025-09-07T15:01:53.388847Z",
     "shell.execute_reply": "2025-09-07T15:01:53.387949Z"
    },
    "papermill": {
     "duration": 0.02486,
     "end_time": "2025-09-07T15:01:53.390913",
     "exception": false,
     "start_time": "2025-09-07T15:01:53.366053",
     "status": "completed"
    },
    "tags": []
   },
   "outputs": [
    {
     "name": "stdout",
     "output_type": "stream",
     "text": [
      " * sqlite:////kaggle/input/sql-murder-mystery-database/sql-murder-mystery.db\n",
      "Done.\n"
     ]
    },
    {
     "data": {
      "text/html": [
       "<table>\n",
       "    <thead>\n",
       "        <tr>\n",
       "            <th>id</th>\n",
       "            <th>person_id</th>\n",
       "            <th>name</th>\n",
       "            <th>membership_start_date</th>\n",
       "            <th>membership_status</th>\n",
       "            <th>id_1</th>\n",
       "            <th>name_1</th>\n",
       "            <th>license_id</th>\n",
       "            <th>address_number</th>\n",
       "            <th>address_street_name</th>\n",
       "            <th>ssn</th>\n",
       "            <th>id_2</th>\n",
       "            <th>age</th>\n",
       "            <th>height</th>\n",
       "            <th>eye_color</th>\n",
       "            <th>hair_color</th>\n",
       "            <th>gender</th>\n",
       "            <th>plate_number</th>\n",
       "            <th>car_make</th>\n",
       "            <th>car_model</th>\n",
       "        </tr>\n",
       "    </thead>\n",
       "    <tbody>\n",
       "        <tr>\n",
       "            <td>48Z55</td>\n",
       "            <td>67318</td>\n",
       "            <td>Jeremy Bowers</td>\n",
       "            <td>20160101</td>\n",
       "            <td>gold</td>\n",
       "            <td>67318</td>\n",
       "            <td>Jeremy Bowers</td>\n",
       "            <td>423327</td>\n",
       "            <td>530</td>\n",
       "            <td>Washington Pl, Apt 3A</td>\n",
       "            <td>871539279</td>\n",
       "            <td>423327</td>\n",
       "            <td>30</td>\n",
       "            <td>70</td>\n",
       "            <td>brown</td>\n",
       "            <td>brown</td>\n",
       "            <td>male</td>\n",
       "            <td>0H42W2</td>\n",
       "            <td>Chevrolet</td>\n",
       "            <td>Spark LS</td>\n",
       "        </tr>\n",
       "    </tbody>\n",
       "</table>"
      ],
      "text/plain": [
       "[('48Z55', 67318, 'Jeremy Bowers', 20160101, 'gold', 67318, 'Jeremy Bowers', 423327, 530, 'Washington Pl, Apt 3A', 871539279, 423327, 30, 70, 'brown', 'brown', 'male', '0H42W2', 'Chevrolet', 'Spark LS')]"
      ]
     },
     "execution_count": 16,
     "metadata": {},
     "output_type": "execute_result"
    }
   ],
   "source": [
    "%%sql\n",
    "SELECT * FROM get_fit_now_member gym\n",
    "JOIN person p ON p.id = gym.person_id \n",
    "JOIN drivers_license dl ON dl.id = p.license_id\n",
    "WHERE gym.id LIKE '48Z%'\n",
    "AND (gym.membership_status = 'gold')\n",
    "AND gym.membership_start_date < 20180109\n",
    "AND dl.plate_number LIKE \"%H42W%\"; "
   ]
  },
  {
   "cell_type": "markdown",
   "id": "c461615b",
   "metadata": {
    "papermill": {
     "duration": 0.006854,
     "end_time": "2025-09-07T15:01:53.405380",
     "exception": false,
     "start_time": "2025-09-07T15:01:53.398526",
     "status": "completed"
    },
    "tags": []
   },
   "source": [
    "#### So, the murderer is **Jeremy Bowers** and he state:"
   ]
  },
  {
   "cell_type": "code",
   "execution_count": 17,
   "id": "1759926a",
   "metadata": {
    "execution": {
     "iopub.execute_input": "2025-09-07T15:01:53.420075Z",
     "iopub.status.busy": "2025-09-07T15:01:53.419769Z",
     "iopub.status.idle": "2025-09-07T15:01:53.528317Z",
     "shell.execute_reply": "2025-09-07T15:01:53.527454Z"
    },
    "papermill": {
     "duration": 0.1178,
     "end_time": "2025-09-07T15:01:53.529888",
     "exception": false,
     "start_time": "2025-09-07T15:01:53.412088",
     "status": "completed"
    },
    "tags": []
   },
   "outputs": [
    {
     "name": "stdout",
     "output_type": "stream",
     "text": [
      " * sqlite:////kaggle/input/sql-murder-mystery-database/sql-murder-mystery.db\n",
      "Done.\n"
     ]
    },
    {
     "data": {
      "text/html": [
       "<table>\n",
       "    <thead>\n",
       "        <tr>\n",
       "            <th>person_id</th>\n",
       "            <th>transcript</th>\n",
       "            <th>id</th>\n",
       "            <th>name</th>\n",
       "            <th>license_id</th>\n",
       "            <th>address_number</th>\n",
       "            <th>address_street_name</th>\n",
       "            <th>ssn</th>\n",
       "        </tr>\n",
       "    </thead>\n",
       "    <tbody>\n",
       "        <tr>\n",
       "            <td>67318</td>\n",
       "            <td>I was hired by a woman with a lot of money. I don&#x27;t know her name but I know she&#x27;s around 5&#x27;5&quot; (65&quot;) or 5&#x27;7&quot; (67&quot;). She has red hair and she drives a Tesla Model S. I know that she attended the SQL Symphony Concert 3 times in December 2017.<br></td>\n",
       "            <td>67318</td>\n",
       "            <td>Jeremy Bowers</td>\n",
       "            <td>423327</td>\n",
       "            <td>530</td>\n",
       "            <td>Washington Pl, Apt 3A</td>\n",
       "            <td>871539279</td>\n",
       "        </tr>\n",
       "    </tbody>\n",
       "</table>"
      ],
      "text/plain": [
       "[(67318, 'I was hired by a woman with a lot of money. I don\\'t know her name but I know she\\'s around 5\\'5\" (65\") or 5\\'7\" (67\"). She has red hair and she drives a Tesla Model S. I know that she attended the SQL Symphony Concert 3 times in December 2017.\\n', 67318, 'Jeremy Bowers', 423327, 530, 'Washington Pl, Apt 3A', 871539279)]"
      ]
     },
     "execution_count": 17,
     "metadata": {},
     "output_type": "execute_result"
    }
   ],
   "source": [
    "%%sql\n",
    "SELECT * FROM interview i\n",
    "JOIN person p\n",
    "ON p.id = i.person_id\n",
    "WHERE p.name = \"Jeremy Bowers\";"
   ]
  },
  {
   "cell_type": "markdown",
   "id": "4a385bd2",
   "metadata": {
    "papermill": {
     "duration": 0.00661,
     "end_time": "2025-09-07T15:01:53.543525",
     "exception": false,
     "start_time": "2025-09-07T15:01:53.536915",
     "status": "completed"
    },
    "tags": []
   },
   "source": [
    "##### The woman who hired him has the following:\n",
    "- Height: 65\"-67\"\n",
    "- Hair Color: Red\n",
    "- Car: Tesla Model S\n",
    "- Income: A lot of money\n",
    "- Hobby: SQL Symphony Concert"
   ]
  },
  {
   "cell_type": "code",
   "execution_count": 18,
   "id": "3b1ec4be",
   "metadata": {
    "execution": {
     "iopub.execute_input": "2025-09-07T15:01:53.558669Z",
     "iopub.status.busy": "2025-09-07T15:01:53.558039Z",
     "iopub.status.idle": "2025-09-07T15:01:53.698353Z",
     "shell.execute_reply": "2025-09-07T15:01:53.697433Z"
    },
    "papermill": {
     "duration": 0.149569,
     "end_time": "2025-09-07T15:01:53.700009",
     "exception": false,
     "start_time": "2025-09-07T15:01:53.550440",
     "status": "completed"
    },
    "tags": []
   },
   "outputs": [
    {
     "name": "stdout",
     "output_type": "stream",
     "text": [
      " * sqlite:////kaggle/input/sql-murder-mystery-database/sql-murder-mystery.db\n",
      "Done.\n"
     ]
    },
    {
     "data": {
      "text/html": [
       "<table>\n",
       "    <thead>\n",
       "        <tr>\n",
       "            <th>id</th>\n",
       "            <th>age</th>\n",
       "            <th>height</th>\n",
       "            <th>eye_color</th>\n",
       "            <th>hair_color</th>\n",
       "            <th>gender</th>\n",
       "            <th>plate_number</th>\n",
       "            <th>car_make</th>\n",
       "            <th>car_model</th>\n",
       "            <th>id_1</th>\n",
       "            <th>name</th>\n",
       "            <th>license_id</th>\n",
       "            <th>address_number</th>\n",
       "            <th>address_street_name</th>\n",
       "            <th>ssn</th>\n",
       "            <th>person_id</th>\n",
       "            <th>event_id</th>\n",
       "            <th>event_name</th>\n",
       "            <th>date</th>\n",
       "        </tr>\n",
       "    </thead>\n",
       "    <tbody>\n",
       "        <tr>\n",
       "            <td>202298</td>\n",
       "            <td>68</td>\n",
       "            <td>66</td>\n",
       "            <td>green</td>\n",
       "            <td>red</td>\n",
       "            <td>female</td>\n",
       "            <td>500123</td>\n",
       "            <td>Tesla</td>\n",
       "            <td>Model S</td>\n",
       "            <td>99716</td>\n",
       "            <td>Miranda Priestly</td>\n",
       "            <td>202298</td>\n",
       "            <td>1883</td>\n",
       "            <td>Golden Ave</td>\n",
       "            <td>987756388</td>\n",
       "            <td>99716</td>\n",
       "            <td>1143</td>\n",
       "            <td>SQL Symphony Concert</td>\n",
       "            <td>20171206</td>\n",
       "        </tr>\n",
       "        <tr>\n",
       "            <td>202298</td>\n",
       "            <td>68</td>\n",
       "            <td>66</td>\n",
       "            <td>green</td>\n",
       "            <td>red</td>\n",
       "            <td>female</td>\n",
       "            <td>500123</td>\n",
       "            <td>Tesla</td>\n",
       "            <td>Model S</td>\n",
       "            <td>99716</td>\n",
       "            <td>Miranda Priestly</td>\n",
       "            <td>202298</td>\n",
       "            <td>1883</td>\n",
       "            <td>Golden Ave</td>\n",
       "            <td>987756388</td>\n",
       "            <td>99716</td>\n",
       "            <td>1143</td>\n",
       "            <td>SQL Symphony Concert</td>\n",
       "            <td>20171212</td>\n",
       "        </tr>\n",
       "        <tr>\n",
       "            <td>202298</td>\n",
       "            <td>68</td>\n",
       "            <td>66</td>\n",
       "            <td>green</td>\n",
       "            <td>red</td>\n",
       "            <td>female</td>\n",
       "            <td>500123</td>\n",
       "            <td>Tesla</td>\n",
       "            <td>Model S</td>\n",
       "            <td>99716</td>\n",
       "            <td>Miranda Priestly</td>\n",
       "            <td>202298</td>\n",
       "            <td>1883</td>\n",
       "            <td>Golden Ave</td>\n",
       "            <td>987756388</td>\n",
       "            <td>99716</td>\n",
       "            <td>1143</td>\n",
       "            <td>SQL Symphony Concert</td>\n",
       "            <td>20171229</td>\n",
       "        </tr>\n",
       "    </tbody>\n",
       "</table>"
      ],
      "text/plain": [
       "[(202298, 68, 66, 'green', 'red', 'female', '500123', 'Tesla', 'Model S', 99716, 'Miranda Priestly', 202298, 1883, 'Golden Ave', 987756388, 99716, 1143, 'SQL Symphony Concert', 20171206),\n",
       " (202298, 68, 66, 'green', 'red', 'female', '500123', 'Tesla', 'Model S', 99716, 'Miranda Priestly', 202298, 1883, 'Golden Ave', 987756388, 99716, 1143, 'SQL Symphony Concert', 20171212),\n",
       " (202298, 68, 66, 'green', 'red', 'female', '500123', 'Tesla', 'Model S', 99716, 'Miranda Priestly', 202298, 1883, 'Golden Ave', 987756388, 99716, 1143, 'SQL Symphony Concert', 20171229)]"
      ]
     },
     "execution_count": 18,
     "metadata": {},
     "output_type": "execute_result"
    }
   ],
   "source": [
    "%%sql\n",
    "SELECT * FROM drivers_license dl\n",
    "JOIN person p ON p.license_id = dl.id\n",
    "JOIN facebook_event_checkin fb ON fb.person_id = p.id\n",
    "\n",
    "WHERE dl.height BETWEEN 65 AND 68\n",
    "AND dl.hair_color = \"red\"\n",
    "AND dl.car_make = \"Tesla\"\n",
    "AND dl.car_model LIKE \"%S%\"\n",
    "AND fb.event_name LIKE \"%Symphony%\";"
   ]
  },
  {
   "cell_type": "code",
   "execution_count": 19,
   "id": "784f92f0",
   "metadata": {
    "execution": {
     "iopub.execute_input": "2025-09-07T15:01:53.716217Z",
     "iopub.status.busy": "2025-09-07T15:01:53.715827Z",
     "iopub.status.idle": "2025-09-07T15:01:53.737727Z",
     "shell.execute_reply": "2025-09-07T15:01:53.736603Z"
    },
    "papermill": {
     "duration": 0.031614,
     "end_time": "2025-09-07T15:01:53.739075",
     "exception": false,
     "start_time": "2025-09-07T15:01:53.707461",
     "status": "completed"
    },
    "tags": []
   },
   "outputs": [
    {
     "name": "stdout",
     "output_type": "stream",
     "text": [
      " * sqlite:////kaggle/input/sql-murder-mystery-database/sql-murder-mystery.db\n",
      "Done.\n"
     ]
    },
    {
     "data": {
      "text/html": [
       "<table>\n",
       "    <thead>\n",
       "        <tr>\n",
       "            <th>ssn</th>\n",
       "            <th>annual_income</th>\n",
       "        </tr>\n",
       "    </thead>\n",
       "    <tbody>\n",
       "        <tr>\n",
       "            <td>987756388</td>\n",
       "            <td>310000</td>\n",
       "        </tr>\n",
       "    </tbody>\n",
       "</table>"
      ],
      "text/plain": [
       "[(987756388, 310000)]"
      ]
     },
     "execution_count": 19,
     "metadata": {},
     "output_type": "execute_result"
    }
   ],
   "source": [
    "%sql SELECT * FROM income WHERE ssn = 987756388;"
   ]
  },
  {
   "cell_type": "markdown",
   "id": "f1f8afe9",
   "metadata": {
    "papermill": {
     "duration": 0.007289,
     "end_time": "2025-09-07T15:01:53.754008",
     "exception": false,
     "start_time": "2025-09-07T15:01:53.746719",
     "status": "completed"
    },
    "tags": []
   },
   "source": [
    "### Finally, the Mystery Murder in SQL City solved!\n",
    "\n",
    "#### **Miranda Priestly** hired **Jeremy Bowers** and he killed the victim!"
   ]
  }
 ],
 "metadata": {
  "kaggle": {
   "accelerator": "none",
   "dataSources": [
    {
     "datasetId": 2282161,
     "sourceId": 3833395,
     "sourceType": "datasetVersion"
    }
   ],
   "dockerImageVersionId": 31089,
   "isGpuEnabled": false,
   "isInternetEnabled": true,
   "language": "python",
   "sourceType": "notebook"
  },
  "kernelspec": {
   "display_name": "Python 3",
   "language": "python",
   "name": "python3"
  },
  "language_info": {
   "codemirror_mode": {
    "name": "ipython",
    "version": 3
   },
   "file_extension": ".py",
   "mimetype": "text/x-python",
   "name": "python",
   "nbconvert_exporter": "python",
   "pygments_lexer": "ipython3",
   "version": "3.11.13"
  },
  "papermill": {
   "default_parameters": {},
   "duration": 10.202595,
   "end_time": "2025-09-07T15:01:54.381566",
   "environment_variables": {},
   "exception": null,
   "input_path": "__notebook__.ipynb",
   "output_path": "__notebook__.ipynb",
   "parameters": {},
   "start_time": "2025-09-07T15:01:44.178971",
   "version": "2.6.0"
  }
 },
 "nbformat": 4,
 "nbformat_minor": 5
}
